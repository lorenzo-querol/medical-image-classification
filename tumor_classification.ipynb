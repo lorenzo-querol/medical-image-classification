{
 "cells": [
  {
   "cell_type": "markdown",
   "metadata": {},
   "source": [
    "# Import Libraries"
   ]
  },
  {
   "cell_type": "code",
   "execution_count": 1,
   "metadata": {},
   "outputs": [
    {
     "name": "stderr",
     "output_type": "stream",
     "text": [
      "2023-09-01 11:53:06.380542: I tensorflow/core/platform/cpu_feature_guard.cc:182] This TensorFlow binary is optimized to use available CPU instructions in performance-critical operations.\n",
      "To enable the following instructions: AVX2 FMA, in other operations, rebuild TensorFlow with the appropriate compiler flags.\n",
      "2023-09-01 11:53:06.906561: W tensorflow/compiler/tf2tensorrt/utils/py_utils.cc:38] TF-TRT Warning: Could not find TensorRT\n"
     ]
    }
   ],
   "source": [
    "import tensorflow as tf\n",
    "import tarfile\n",
    "import shutil\n",
    "import numpy as np\n",
    "import os\n",
    "from configs import config\n",
    "from utils import get_class_distribution\n",
    "from model import train\n",
    "import datetime"
   ]
  },
  {
   "cell_type": "code",
   "execution_count": 2,
   "metadata": {},
   "outputs": [],
   "source": [
    "TRAIN_DIR = \"Dataset/train.tar.gz\"\n",
    "VALID_DIR = \"Dataset/val.tar.gz\"\n",
    "TEST_DIR = \"Dataset/test.tar.gz\""
   ]
  },
  {
   "cell_type": "markdown",
   "metadata": {},
   "source": [
    "# Prepare Dataset\n"
   ]
  },
  {
   "cell_type": "markdown",
   "metadata": {},
   "source": [
    "Extract image data from the `tar.gz` files"
   ]
  },
  {
   "cell_type": "code",
   "execution_count": 3,
   "metadata": {},
   "outputs": [
    {
     "name": "stdout",
     "output_type": "stream",
     "text": [
      "Extracting Dataset/train.tar.gz...\n",
      "Extracting Dataset/val.tar.gz...\n",
      "Extracting Dataset/test.tar.gz...\n"
     ]
    }
   ],
   "source": [
    "if os.path.exists(\"Dataset/extracted\"):\n",
    "    shutil.rmtree(\"Dataset/extracted\")\n",
    "\n",
    "for dir in [TRAIN_DIR, VALID_DIR, TEST_DIR]:\n",
    "    print(f\"Extracting {dir}...\")\n",
    "    data = tarfile.open(dir)\n",
    "    data.extractall(\"Dataset/extracted\")\n",
    "    data.close()"
   ]
  },
  {
   "cell_type": "markdown",
   "metadata": {},
   "source": [
    "Load images with TensorFlow"
   ]
  },
  {
   "cell_type": "code",
   "execution_count": 4,
   "metadata": {},
   "outputs": [
    {
     "name": "stdout",
     "output_type": "stream",
     "text": [
      "Found 8980 files belonging to 2 classes.\n",
      "Found 1448 files belonging to 2 classes.\n"
     ]
    },
    {
     "name": "stderr",
     "output_type": "stream",
     "text": [
      "2023-09-01 11:53:09.714916: I tensorflow/core/common_runtime/gpu/gpu_device.cc:1639] Created device /job:localhost/replica:0/task:0/device:GPU:0 with 13749 MB memory:  -> device: 0, name: NVIDIA RTX A4000, pci bus id: 0000:01:00.0, compute capability: 8.6\n"
     ]
    }
   ],
   "source": [
    "train_set = tf.keras.utils.image_dataset_from_directory(\n",
    "    \"Dataset/extracted/train\",\n",
    "    seed=config[\"seed\"],\n",
    "    image_size=config[\"image_size\"],\n",
    "    batch_size=config[\"hparams\"][\"batch_size\"],\n",
    "    label_mode=\"binary\",\n",
    ")\n",
    "\n",
    "valid_set = tf.keras.utils.image_dataset_from_directory(\n",
    "    \"Dataset/extracted/val\",\n",
    "    seed=config[\"seed\"],\n",
    "    image_size=config[\"image_size\"],\n",
    "    batch_size=config[\"hparams\"][\"batch_size\"],\n",
    "    label_mode=\"binary\",\n",
    ")"
   ]
  },
  {
   "cell_type": "code",
   "execution_count": 5,
   "metadata": {},
   "outputs": [
    {
     "name": "stdout",
     "output_type": "stream",
     "text": [
      "Class Distribution of train\n",
      "0: 4486 samples\n",
      "1: 4494 samples\n",
      "Class Distribution of val\n",
      "0: 694 samples\n",
      "1: 754 samples\n",
      "Class Distribution of test\n",
      "0: 1195 samples\n",
      "1: 1263 samples\n"
     ]
    }
   ],
   "source": [
    "get_class_distribution(\"train\")\n",
    "get_class_distribution(\"val\")\n",
    "get_class_distribution(\"test\")"
   ]
  },
  {
   "cell_type": "code",
   "execution_count": 6,
   "metadata": {},
   "outputs": [
    {
     "name": "stdout",
     "output_type": "stream",
     "text": [
      "Found 8980 files belonging to 2 classes.\n",
      "Found 1448 files belonging to 2 classes.\n",
      "Epoch 1/100\n"
     ]
    },
    {
     "name": "stderr",
     "output_type": "stream",
     "text": [
      "2023-09-01 11:53:25.958591: I tensorflow/compiler/xla/stream_executor/cuda/cuda_dnn.cc:432] Loaded cuDNN version 8600\n",
      "2023-09-01 11:53:26.428290: I tensorflow/tsl/platform/default/subprocess.cc:304] Start cannot spawn child process: No such file or directory\n",
      "2023-09-01 11:53:27.389409: I tensorflow/compiler/xla/stream_executor/cuda/cuda_blas.cc:606] TensorFloat-32 will be used for the matrix multiplication. This will only be logged once.\n",
      "2023-09-01 11:53:28.805122: I tensorflow/compiler/xla/service/service.cc:168] XLA service 0x1e7a8910 initialized for platform CUDA (this does not guarantee that XLA will be used). Devices:\n",
      "2023-09-01 11:53:28.805173: I tensorflow/compiler/xla/service/service.cc:176]   StreamExecutor device (0): NVIDIA RTX A4000, Compute Capability 8.6\n",
      "2023-09-01 11:53:28.812823: I tensorflow/compiler/mlir/tensorflow/utils/dump_mlir_util.cc:255] disabling MLIR crash reproducer, set env var `MLIR_CRASH_REPRODUCER_DIRECTORY` to enable.\n",
      "2023-09-01 11:53:28.856599: I tensorflow/tsl/platform/default/subprocess.cc:304] Start cannot spawn child process: No such file or directory\n",
      "2023-09-01 11:53:28.908597: I ./tensorflow/compiler/jit/device_compiler.h:186] Compiled cluster using XLA!  This line is logged at most once for the lifetime of the process.\n"
     ]
    },
    {
     "name": "stdout",
     "output_type": "stream",
     "text": [
      "36/36 [==============================] - ETA: 0s - loss: 0.4946 - binary_accuracy: 0.7849 - precision: 0.7693 - recall: 0.8142 - f1_score: 0.6945\n",
      "Epoch 1: val_loss improved from inf to 0.33913, saving model to checkpoints/2023-09-01 11:53:15.248752_vgg16_e100_lr0.001_bs256_dr0.3/cp-0001.ckpt\n",
      "36/36 [==============================] - 45s 882ms/step - loss: 0.4946 - binary_accuracy: 0.7849 - precision: 0.7693 - recall: 0.8142 - f1_score: 0.6945 - val_loss: 0.3391 - val_binary_accuracy: 0.8743 - val_precision: 0.8514 - val_recall: 0.9191 - val_f1_score: 0.8786\n",
      "Epoch 2/100\n",
      "36/36 [==============================] - ETA: 0s - loss: 0.3550 - binary_accuracy: 0.8634 - precision: 0.8515 - recall: 0.8805 - f1_score: 0.8472\n",
      "Epoch 2: val_loss improved from 0.33913 to 0.28257, saving model to checkpoints/2023-09-01 11:53:15.248752_vgg16_e100_lr0.001_bs256_dr0.3/cp-0002.ckpt\n",
      "36/36 [==============================] - 28s 770ms/step - loss: 0.3550 - binary_accuracy: 0.8634 - precision: 0.8515 - recall: 0.8805 - f1_score: 0.8472 - val_loss: 0.2826 - val_binary_accuracy: 0.8819 - val_precision: 0.8594 - val_recall: 0.9244 - val_f1_score: 0.8972\n",
      "Epoch 3/100\n",
      "36/36 [==============================] - ETA: 0s - loss: 0.3195 - binary_accuracy: 0.8782 - precision: 0.8715 - recall: 0.8874 - f1_score: 0.8676\n",
      "Epoch 3: val_loss improved from 0.28257 to 0.25866, saving model to checkpoints/2023-09-01 11:53:15.248752_vgg16_e100_lr0.001_bs256_dr0.3/cp-0003.ckpt\n",
      "36/36 [==============================] - 28s 770ms/step - loss: 0.3195 - binary_accuracy: 0.8782 - precision: 0.8715 - recall: 0.8874 - f1_score: 0.8676 - val_loss: 0.2587 - val_binary_accuracy: 0.8950 - val_precision: 0.8716 - val_recall: 0.9363 - val_f1_score: 0.9129\n",
      "Epoch 4/100\n",
      "36/36 [==============================] - ETA: 0s - loss: 0.2994 - binary_accuracy: 0.8855 - precision: 0.8799 - recall: 0.8932 - f1_score: 0.8785\n",
      "Epoch 4: val_loss improved from 0.25866 to 0.24583, saving model to checkpoints/2023-09-01 11:53:15.248752_vgg16_e100_lr0.001_bs256_dr0.3/cp-0004.ckpt\n",
      "36/36 [==============================] - 28s 779ms/step - loss: 0.2994 - binary_accuracy: 0.8855 - precision: 0.8799 - recall: 0.8932 - f1_score: 0.8785 - val_loss: 0.2458 - val_binary_accuracy: 0.9033 - val_precision: 0.8800 - val_recall: 0.9430 - val_f1_score: 0.9161\n",
      "Epoch 5/100\n",
      "36/36 [==============================] - ETA: 0s - loss: 0.2850 - binary_accuracy: 0.8945 - precision: 0.8875 - recall: 0.9039 - f1_score: 0.8835\n",
      "Epoch 5: val_loss improved from 0.24583 to 0.23656, saving model to checkpoints/2023-09-01 11:53:15.248752_vgg16_e100_lr0.001_bs256_dr0.3/cp-0005.ckpt\n",
      "36/36 [==============================] - 28s 773ms/step - loss: 0.2850 - binary_accuracy: 0.8945 - precision: 0.8875 - recall: 0.9039 - f1_score: 0.8835 - val_loss: 0.2366 - val_binary_accuracy: 0.9081 - val_precision: 0.8867 - val_recall: 0.9443 - val_f1_score: 0.9191\n",
      "Epoch 6/100\n",
      "36/36 [==============================] - ETA: 0s - loss: 0.2758 - binary_accuracy: 0.8984 - precision: 0.8935 - recall: 0.9050 - f1_score: 0.8916\n",
      "Epoch 6: val_loss improved from 0.23656 to 0.22860, saving model to checkpoints/2023-09-01 11:53:15.248752_vgg16_e100_lr0.001_bs256_dr0.3/cp-0006.ckpt\n",
      "36/36 [==============================] - 28s 777ms/step - loss: 0.2758 - binary_accuracy: 0.8984 - precision: 0.8935 - recall: 0.9050 - f1_score: 0.8916 - val_loss: 0.2286 - val_binary_accuracy: 0.9164 - val_precision: 0.9011 - val_recall: 0.9430 - val_f1_score: 0.9230\n",
      "Epoch 7/100\n",
      "36/36 [==============================] - ETA: 0s - loss: 0.2680 - binary_accuracy: 0.9007 - precision: 0.8970 - recall: 0.9054 - f1_score: 0.8923\n",
      "Epoch 7: val_loss improved from 0.22860 to 0.22843, saving model to checkpoints/2023-09-01 11:53:15.248752_vgg16_e100_lr0.001_bs256_dr0.3/cp-0007.ckpt\n",
      "36/36 [==============================] - 28s 776ms/step - loss: 0.2680 - binary_accuracy: 0.9007 - precision: 0.8970 - recall: 0.9054 - f1_score: 0.8923 - val_loss: 0.2284 - val_binary_accuracy: 0.9144 - val_precision: 0.8947 - val_recall: 0.9469 - val_f1_score: 0.9233\n",
      "Epoch 8/100\n",
      "36/36 [==============================] - ETA: 0s - loss: 0.2591 - binary_accuracy: 0.9042 - precision: 0.8972 - recall: 0.9132 - f1_score: 0.8970\n",
      "Epoch 8: val_loss improved from 0.22843 to 0.22195, saving model to checkpoints/2023-09-01 11:53:15.248752_vgg16_e100_lr0.001_bs256_dr0.3/cp-0008.ckpt\n",
      "36/36 [==============================] - 28s 780ms/step - loss: 0.2591 - binary_accuracy: 0.9042 - precision: 0.8972 - recall: 0.9132 - f1_score: 0.8970 - val_loss: 0.2220 - val_binary_accuracy: 0.9199 - val_precision: 0.9059 - val_recall: 0.9443 - val_f1_score: 0.9246\n",
      "Epoch 9/100\n",
      "36/36 [==============================] - ETA: 0s - loss: 0.2564 - binary_accuracy: 0.9080 - precision: 0.9031 - recall: 0.9143 - f1_score: 0.9005\n",
      "Epoch 9: val_loss improved from 0.22195 to 0.22000, saving model to checkpoints/2023-09-01 11:53:15.248752_vgg16_e100_lr0.001_bs256_dr0.3/cp-0009.ckpt\n",
      "36/36 [==============================] - 28s 778ms/step - loss: 0.2564 - binary_accuracy: 0.9080 - precision: 0.9031 - recall: 0.9143 - f1_score: 0.9005 - val_loss: 0.2200 - val_binary_accuracy: 0.9206 - val_precision: 0.9060 - val_recall: 0.9456 - val_f1_score: 0.9243\n",
      "Epoch 10/100\n",
      "36/36 [==============================] - ETA: 0s - loss: 0.2483 - binary_accuracy: 0.9121 - precision: 0.9087 - recall: 0.9166 - f1_score: 0.9053\n",
      "Epoch 10: val_loss improved from 0.22000 to 0.21979, saving model to checkpoints/2023-09-01 11:53:15.248752_vgg16_e100_lr0.001_bs256_dr0.3/cp-0010.ckpt\n",
      "36/36 [==============================] - 28s 783ms/step - loss: 0.2483 - binary_accuracy: 0.9121 - precision: 0.9087 - recall: 0.9166 - f1_score: 0.9053 - val_loss: 0.2198 - val_binary_accuracy: 0.9213 - val_precision: 0.9061 - val_recall: 0.9469 - val_f1_score: 0.9265\n",
      "Epoch 11/100\n",
      "36/36 [==============================] - ETA: 0s - loss: 0.2430 - binary_accuracy: 0.9140 - precision: 0.9106 - recall: 0.9183 - f1_score: 0.9090\n",
      "Epoch 11: val_loss improved from 0.21979 to 0.21928, saving model to checkpoints/2023-09-01 11:53:15.248752_vgg16_e100_lr0.001_bs256_dr0.3/cp-0011.ckpt\n",
      "36/36 [==============================] - 28s 777ms/step - loss: 0.2430 - binary_accuracy: 0.9140 - precision: 0.9106 - recall: 0.9183 - f1_score: 0.9090 - val_loss: 0.2193 - val_binary_accuracy: 0.9220 - val_precision: 0.9052 - val_recall: 0.9496 - val_f1_score: 0.9280\n",
      "Epoch 12/100\n",
      "36/36 [==============================] - ETA: 0s - loss: 0.2417 - binary_accuracy: 0.9134 - precision: 0.9084 - recall: 0.9197 - f1_score: 0.9089\n",
      "Epoch 12: val_loss improved from 0.21928 to 0.21803, saving model to checkpoints/2023-09-01 11:53:15.248752_vgg16_e100_lr0.001_bs256_dr0.3/cp-0012.ckpt\n",
      "36/36 [==============================] - 28s 774ms/step - loss: 0.2417 - binary_accuracy: 0.9134 - precision: 0.9084 - recall: 0.9197 - f1_score: 0.9089 - val_loss: 0.2180 - val_binary_accuracy: 0.9206 - val_precision: 0.9029 - val_recall: 0.9496 - val_f1_score: 0.9286\n",
      "Epoch 13/100\n",
      "36/36 [==============================] - ETA: 0s - loss: 0.2373 - binary_accuracy: 0.9165 - precision: 0.9107 - recall: 0.9237 - f1_score: 0.9100\n",
      "Epoch 13: val_loss improved from 0.21803 to 0.21787, saving model to checkpoints/2023-09-01 11:53:15.248752_vgg16_e100_lr0.001_bs256_dr0.3/cp-0013.ckpt\n",
      "36/36 [==============================] - 28s 774ms/step - loss: 0.2373 - binary_accuracy: 0.9165 - precision: 0.9107 - recall: 0.9237 - f1_score: 0.9100 - val_loss: 0.2179 - val_binary_accuracy: 0.9199 - val_precision: 0.9018 - val_recall: 0.9496 - val_f1_score: 0.9288\n",
      "Epoch 14/100\n",
      "36/36 [==============================] - ETA: 0s - loss: 0.2348 - binary_accuracy: 0.9145 - precision: 0.9089 - recall: 0.9215 - f1_score: 0.9125\n",
      "Epoch 14: val_loss improved from 0.21787 to 0.21246, saving model to checkpoints/2023-09-01 11:53:15.248752_vgg16_e100_lr0.001_bs256_dr0.3/cp-0014.ckpt\n",
      "36/36 [==============================] - 28s 773ms/step - loss: 0.2348 - binary_accuracy: 0.9145 - precision: 0.9089 - recall: 0.9215 - f1_score: 0.9125 - val_loss: 0.2125 - val_binary_accuracy: 0.9247 - val_precision: 0.9119 - val_recall: 0.9469 - val_f1_score: 0.9290\n",
      "Epoch 15/100\n",
      "36/36 [==============================] - ETA: 0s - loss: 0.2334 - binary_accuracy: 0.9171 - precision: 0.9157 - recall: 0.9190 - f1_score: 0.9103\n",
      "Epoch 15: val_loss did not improve from 0.21246\n",
      "36/36 [==============================] - 27s 755ms/step - loss: 0.2334 - binary_accuracy: 0.9171 - precision: 0.9157 - recall: 0.9190 - f1_score: 0.9103 - val_loss: 0.2153 - val_binary_accuracy: 0.9206 - val_precision: 0.9039 - val_recall: 0.9483 - val_f1_score: 0.9287\n",
      "Epoch 16/100\n",
      "36/36 [==============================] - ETA: 0s - loss: 0.2314 - binary_accuracy: 0.9175 - precision: 0.9109 - recall: 0.9257 - f1_score: 0.9142\n",
      "Epoch 16: val_loss did not improve from 0.21246\n",
      "36/36 [==============================] - 27s 754ms/step - loss: 0.2314 - binary_accuracy: 0.9175 - precision: 0.9109 - recall: 0.9257 - f1_score: 0.9142 - val_loss: 0.2128 - val_binary_accuracy: 0.9192 - val_precision: 0.9016 - val_recall: 0.9483 - val_f1_score: 0.9279\n",
      "Epoch 17/100\n",
      "36/36 [==============================] - ETA: 0s - loss: 0.2291 - binary_accuracy: 0.9177 - precision: 0.9127 - recall: 0.9239 - f1_score: 0.9131\n",
      "Epoch 17: val_loss did not improve from 0.21246\n",
      "36/36 [==============================] - 27s 755ms/step - loss: 0.2291 - binary_accuracy: 0.9177 - precision: 0.9127 - recall: 0.9239 - f1_score: 0.9131 - val_loss: 0.2138 - val_binary_accuracy: 0.9213 - val_precision: 0.9061 - val_recall: 0.9469 - val_f1_score: 0.9285\n",
      "Epoch 18/100\n",
      "36/36 [==============================] - ETA: 0s - loss: 0.2247 - binary_accuracy: 0.9212 - precision: 0.9197 - recall: 0.9230 - f1_score: 0.9156\n",
      "Epoch 18: val_loss did not improve from 0.21246\n",
      "36/36 [==============================] - 28s 764ms/step - loss: 0.2247 - binary_accuracy: 0.9212 - precision: 0.9197 - recall: 0.9230 - f1_score: 0.9156 - val_loss: 0.2143 - val_binary_accuracy: 0.9206 - val_precision: 0.9049 - val_recall: 0.9469 - val_f1_score: 0.9266\n",
      "Epoch 19/100\n",
      "36/36 [==============================] - ETA: 0s - loss: 0.2222 - binary_accuracy: 0.9246 - precision: 0.9229 - recall: 0.9268 - f1_score: 0.9147\n",
      "Epoch 19: val_loss did not improve from 0.21246\n",
      "36/36 [==============================] - 27s 747ms/step - loss: 0.2222 - binary_accuracy: 0.9246 - precision: 0.9229 - recall: 0.9268 - f1_score: 0.9147 - val_loss: 0.2133 - val_binary_accuracy: 0.9240 - val_precision: 0.9076 - val_recall: 0.9509 - val_f1_score: 0.9274\n",
      "Epoch 20/100\n",
      "36/36 [==============================] - ETA: 0s - loss: 0.2244 - binary_accuracy: 0.9218 - precision: 0.9154 - recall: 0.9297 - f1_score: 0.9171\n",
      "Epoch 20: val_loss improved from 0.21246 to 0.20970, saving model to checkpoints/2023-09-01 11:53:15.248752_vgg16_e100_lr0.001_bs256_dr0.3/cp-0020.ckpt\n",
      "36/36 [==============================] - 27s 753ms/step - loss: 0.2244 - binary_accuracy: 0.9218 - precision: 0.9154 - recall: 0.9297 - f1_score: 0.9171 - val_loss: 0.2097 - val_binary_accuracy: 0.9227 - val_precision: 0.9105 - val_recall: 0.9443 - val_f1_score: 0.9294\n",
      "Epoch 21/100\n",
      "36/36 [==============================] - ETA: 0s - loss: 0.2209 - binary_accuracy: 0.9234 - precision: 0.9220 - recall: 0.9252 - f1_score: 0.9174\n",
      "Epoch 21: val_loss did not improve from 0.20970\n",
      "36/36 [==============================] - 27s 754ms/step - loss: 0.2209 - binary_accuracy: 0.9234 - precision: 0.9220 - recall: 0.9252 - f1_score: 0.9174 - val_loss: 0.2138 - val_binary_accuracy: 0.9220 - val_precision: 0.9062 - val_recall: 0.9483 - val_f1_score: 0.9272\n",
      "Epoch 22/100\n",
      "36/36 [==============================] - ETA: 0s - loss: 0.2183 - binary_accuracy: 0.9255 - precision: 0.9232 - recall: 0.9283 - f1_score: 0.9182\n",
      "Epoch 22: val_loss did not improve from 0.20970\n",
      "36/36 [==============================] - 27s 753ms/step - loss: 0.2183 - binary_accuracy: 0.9255 - precision: 0.9232 - recall: 0.9283 - f1_score: 0.9182 - val_loss: 0.2131 - val_binary_accuracy: 0.9213 - val_precision: 0.9071 - val_recall: 0.9456 - val_f1_score: 0.9284\n",
      "Epoch 23/100\n",
      "36/36 [==============================] - ETA: 0s - loss: 0.2178 - binary_accuracy: 0.9261 - precision: 0.9242 - recall: 0.9283 - f1_score: 0.9178\n",
      "Epoch 23: val_loss did not improve from 0.20970\n",
      "36/36 [==============================] - 27s 751ms/step - loss: 0.2178 - binary_accuracy: 0.9261 - precision: 0.9242 - recall: 0.9283 - f1_score: 0.9178 - val_loss: 0.2136 - val_binary_accuracy: 0.9199 - val_precision: 0.9028 - val_recall: 0.9483 - val_f1_score: 0.9280\n",
      "Epoch 24/100\n",
      "36/36 [==============================] - ETA: 0s - loss: 0.2169 - binary_accuracy: 0.9244 - precision: 0.9221 - recall: 0.9272 - f1_score: 0.9182\n",
      "Epoch 24: val_loss did not improve from 0.20970\n",
      "36/36 [==============================] - 27s 751ms/step - loss: 0.2169 - binary_accuracy: 0.9244 - precision: 0.9221 - recall: 0.9272 - f1_score: 0.9182 - val_loss: 0.2110 - val_binary_accuracy: 0.9227 - val_precision: 0.9094 - val_recall: 0.9456 - val_f1_score: 0.9280\n",
      "Epoch 25/100\n",
      "36/36 [==============================] - ETA: 0s - loss: 0.2171 - binary_accuracy: 0.9243 - precision: 0.9210 - recall: 0.9283 - f1_score: 0.9201\n",
      "Epoch 25: val_loss did not improve from 0.20970\n",
      "36/36 [==============================] - 27s 751ms/step - loss: 0.2171 - binary_accuracy: 0.9243 - precision: 0.9210 - recall: 0.9283 - f1_score: 0.9201 - val_loss: 0.2120 - val_binary_accuracy: 0.9233 - val_precision: 0.9096 - val_recall: 0.9469 - val_f1_score: 0.9262\n",
      "Epoch 26/100\n",
      "36/36 [==============================] - ETA: 0s - loss: 0.2119 - binary_accuracy: 0.9247 - precision: 0.9240 - recall: 0.9257 - f1_score: 0.9207\n",
      "Epoch 26: val_loss did not improve from 0.20970\n",
      "36/36 [==============================] - 27s 750ms/step - loss: 0.2119 - binary_accuracy: 0.9247 - precision: 0.9240 - recall: 0.9257 - f1_score: 0.9207 - val_loss: 0.2156 - val_binary_accuracy: 0.9213 - val_precision: 0.9040 - val_recall: 0.9496 - val_f1_score: 0.9268\n",
      "Epoch 27/100\n",
      "36/36 [==============================] - ETA: 0s - loss: 0.2110 - binary_accuracy: 0.9245 - precision: 0.9208 - recall: 0.9290 - f1_score: 0.9214\n",
      "Epoch 27: val_loss did not improve from 0.20970\n",
      "36/36 [==============================] - 27s 750ms/step - loss: 0.2110 - binary_accuracy: 0.9245 - precision: 0.9208 - recall: 0.9290 - f1_score: 0.9214 - val_loss: 0.2134 - val_binary_accuracy: 0.9233 - val_precision: 0.9075 - val_recall: 0.9496 - val_f1_score: 0.9273\n",
      "Epoch 28/100\n",
      "36/36 [==============================] - ETA: 0s - loss: 0.2105 - binary_accuracy: 0.9288 - precision: 0.9258 - recall: 0.9326 - f1_score: 0.9242\n",
      "Epoch 28: val_loss did not improve from 0.20970\n",
      "36/36 [==============================] - 27s 753ms/step - loss: 0.2105 - binary_accuracy: 0.9288 - precision: 0.9258 - recall: 0.9326 - f1_score: 0.9242 - val_loss: 0.2111 - val_binary_accuracy: 0.9227 - val_precision: 0.9105 - val_recall: 0.9443 - val_f1_score: 0.9268\n",
      "Epoch 29/100\n",
      "36/36 [==============================] - ETA: 0s - loss: 0.2100 - binary_accuracy: 0.9298 - precision: 0.9293 - recall: 0.9306 - f1_score: 0.9222\n",
      "Epoch 29: val_loss did not improve from 0.20970\n",
      "36/36 [==============================] - 27s 751ms/step - loss: 0.2100 - binary_accuracy: 0.9298 - precision: 0.9293 - recall: 0.9306 - f1_score: 0.9222 - val_loss: 0.2113 - val_binary_accuracy: 0.9227 - val_precision: 0.9094 - val_recall: 0.9456 - val_f1_score: 0.9265\n",
      "Epoch 30/100\n",
      "36/36 [==============================] - ETA: 0s - loss: 0.2078 - binary_accuracy: 0.9291 - precision: 0.9238 - recall: 0.9355 - f1_score: 0.9238\n",
      "Epoch 30: val_loss improved from 0.20970 to 0.20947, saving model to checkpoints/2023-09-01 11:53:15.248752_vgg16_e100_lr0.001_bs256_dr0.3/cp-0030.ckpt\n",
      "36/36 [==============================] - 28s 780ms/step - loss: 0.2078 - binary_accuracy: 0.9291 - precision: 0.9238 - recall: 0.9355 - f1_score: 0.9238 - val_loss: 0.2095 - val_binary_accuracy: 0.9240 - val_precision: 0.9107 - val_recall: 0.9469 - val_f1_score: 0.9258\n",
      "Epoch 31/100\n",
      "36/36 [==============================] - ETA: 0s - loss: 0.2088 - binary_accuracy: 0.9275 - precision: 0.9254 - recall: 0.9301 - f1_score: 0.9219\n",
      "Epoch 31: val_loss did not improve from 0.20947\n",
      "36/36 [==============================] - 27s 753ms/step - loss: 0.2088 - binary_accuracy: 0.9275 - precision: 0.9254 - recall: 0.9301 - f1_score: 0.9219 - val_loss: 0.2112 - val_binary_accuracy: 0.9240 - val_precision: 0.9097 - val_recall: 0.9483 - val_f1_score: 0.9267\n",
      "Epoch 32/100\n",
      "36/36 [==============================] - ETA: 0s - loss: 0.2054 - binary_accuracy: 0.9280 - precision: 0.9253 - recall: 0.9312 - f1_score: 0.9228\n",
      "Epoch 32: val_loss did not improve from 0.20947\n",
      "36/36 [==============================] - 27s 754ms/step - loss: 0.2054 - binary_accuracy: 0.9280 - precision: 0.9253 - recall: 0.9312 - f1_score: 0.9228 - val_loss: 0.2127 - val_binary_accuracy: 0.9227 - val_precision: 0.9063 - val_recall: 0.9496 - val_f1_score: 0.9285\n",
      "Epoch 33/100\n",
      "36/36 [==============================] - ETA: 0s - loss: 0.2079 - binary_accuracy: 0.9284 - precision: 0.9251 - recall: 0.9324 - f1_score: 0.9243\n",
      "Epoch 33: val_loss did not improve from 0.20947\n",
      "36/36 [==============================] - 27s 751ms/step - loss: 0.2079 - binary_accuracy: 0.9284 - precision: 0.9251 - recall: 0.9324 - f1_score: 0.9243 - val_loss: 0.2128 - val_binary_accuracy: 0.9227 - val_precision: 0.9043 - val_recall: 0.9523 - val_f1_score: 0.9291\n",
      "Epoch 34/100\n",
      "36/36 [==============================] - ETA: 0s - loss: 0.2039 - binary_accuracy: 0.9286 - precision: 0.9231 - recall: 0.9352 - f1_score: 0.9261\n",
      "Epoch 34: val_loss improved from 0.20947 to 0.20794, saving model to checkpoints/2023-09-01 11:53:15.248752_vgg16_e100_lr0.001_bs256_dr0.3/cp-0034.ckpt\n",
      "36/36 [==============================] - 28s 769ms/step - loss: 0.2039 - binary_accuracy: 0.9286 - precision: 0.9231 - recall: 0.9352 - f1_score: 0.9261 - val_loss: 0.2079 - val_binary_accuracy: 0.9240 - val_precision: 0.9118 - val_recall: 0.9456 - val_f1_score: 0.9296\n",
      "Epoch 35/100\n",
      "36/36 [==============================] - ETA: 0s - loss: 0.2070 - binary_accuracy: 0.9267 - precision: 0.9270 - recall: 0.9266 - f1_score: 0.9211\n",
      "Epoch 35: val_loss did not improve from 0.20794\n",
      "36/36 [==============================] - 27s 752ms/step - loss: 0.2070 - binary_accuracy: 0.9267 - precision: 0.9270 - recall: 0.9266 - f1_score: 0.9211 - val_loss: 0.2095 - val_binary_accuracy: 0.9220 - val_precision: 0.9062 - val_recall: 0.9483 - val_f1_score: 0.9316\n",
      "Epoch 36/100\n",
      "36/36 [==============================] - ETA: 0s - loss: 0.2031 - binary_accuracy: 0.9293 - precision: 0.9298 - recall: 0.9288 - f1_score: 0.9246\n",
      "Epoch 36: val_loss did not improve from 0.20794\n",
      "36/36 [==============================] - 27s 752ms/step - loss: 0.2031 - binary_accuracy: 0.9293 - precision: 0.9298 - recall: 0.9288 - f1_score: 0.9246 - val_loss: 0.2093 - val_binary_accuracy: 0.9233 - val_precision: 0.9085 - val_recall: 0.9483 - val_f1_score: 0.9293\n",
      "Epoch 37/100\n",
      "36/36 [==============================] - ETA: 0s - loss: 0.2025 - binary_accuracy: 0.9312 - precision: 0.9307 - recall: 0.9319 - f1_score: 0.9243\n",
      "Epoch 37: val_loss improved from 0.20794 to 0.20790, saving model to checkpoints/2023-09-01 11:53:15.248752_vgg16_e100_lr0.001_bs256_dr0.3/cp-0037.ckpt\n",
      "36/36 [==============================] - 28s 770ms/step - loss: 0.2025 - binary_accuracy: 0.9312 - precision: 0.9307 - recall: 0.9319 - f1_score: 0.9243 - val_loss: 0.2079 - val_binary_accuracy: 0.9240 - val_precision: 0.9128 - val_recall: 0.9443 - val_f1_score: 0.9284\n",
      "Epoch 38/100\n",
      "36/36 [==============================] - ETA: 0s - loss: 0.2043 - binary_accuracy: 0.9303 - precision: 0.9307 - recall: 0.9299 - f1_score: 0.9260\n",
      "Epoch 38: val_loss did not improve from 0.20790\n",
      "36/36 [==============================] - 27s 754ms/step - loss: 0.2043 - binary_accuracy: 0.9303 - precision: 0.9307 - recall: 0.9299 - f1_score: 0.9260 - val_loss: 0.2167 - val_binary_accuracy: 0.9192 - val_precision: 0.8966 - val_recall: 0.9549 - val_f1_score: 0.9281\n",
      "Epoch 39/100\n",
      "36/36 [==============================] - ETA: 0s - loss: 0.2034 - binary_accuracy: 0.9294 - precision: 0.9234 - recall: 0.9366 - f1_score: 0.9263\n",
      "Epoch 39: val_loss did not improve from 0.20790\n",
      "36/36 [==============================] - 27s 752ms/step - loss: 0.2034 - binary_accuracy: 0.9294 - precision: 0.9234 - recall: 0.9366 - f1_score: 0.9263 - val_loss: 0.2109 - val_binary_accuracy: 0.9233 - val_precision: 0.9085 - val_recall: 0.9483 - val_f1_score: 0.9300\n",
      "Epoch 40/100\n",
      "36/36 [==============================] - ETA: 0s - loss: 0.2030 - binary_accuracy: 0.9281 - precision: 0.9274 - recall: 0.9290 - f1_score: 0.9229\n",
      "Epoch 40: val_loss did not improve from 0.20790\n",
      "36/36 [==============================] - 27s 754ms/step - loss: 0.2030 - binary_accuracy: 0.9281 - precision: 0.9274 - recall: 0.9290 - f1_score: 0.9229 - val_loss: 0.2164 - val_binary_accuracy: 0.9185 - val_precision: 0.8955 - val_recall: 0.9549 - val_f1_score: 0.9294\n",
      "Epoch 41/100\n",
      "36/36 [==============================] - ETA: 0s - loss: 0.2005 - binary_accuracy: 0.9333 - precision: 0.9276 - recall: 0.9401 - f1_score: 0.9280\n",
      "Epoch 41: val_loss did not improve from 0.20790\n",
      "36/36 [==============================] - 28s 763ms/step - loss: 0.2005 - binary_accuracy: 0.9333 - precision: 0.9276 - recall: 0.9401 - f1_score: 0.9280 - val_loss: 0.2125 - val_binary_accuracy: 0.9240 - val_precision: 0.9066 - val_recall: 0.9523 - val_f1_score: 0.9305\n",
      "Epoch 42/100\n",
      "36/36 [==============================] - ETA: 0s - loss: 0.2017 - binary_accuracy: 0.9298 - precision: 0.9257 - recall: 0.9348 - f1_score: 0.9252\n",
      "Epoch 42: val_loss did not improve from 0.20790\n",
      "36/36 [==============================] - 27s 751ms/step - loss: 0.2017 - binary_accuracy: 0.9298 - precision: 0.9257 - recall: 0.9348 - f1_score: 0.9252 - val_loss: 0.2108 - val_binary_accuracy: 0.9240 - val_precision: 0.9107 - val_recall: 0.9469 - val_f1_score: 0.9315\n",
      "Epoch 43/100\n",
      "36/36 [==============================] - ETA: 0s - loss: 0.2030 - binary_accuracy: 0.9305 - precision: 0.9298 - recall: 0.9315 - f1_score: 0.9264\n",
      "Epoch 43: val_loss did not improve from 0.20790\n",
      "36/36 [==============================] - 27s 750ms/step - loss: 0.2030 - binary_accuracy: 0.9305 - precision: 0.9298 - recall: 0.9315 - f1_score: 0.9264 - val_loss: 0.2102 - val_binary_accuracy: 0.9240 - val_precision: 0.9097 - val_recall: 0.9483 - val_f1_score: 0.9314\n",
      "Epoch 44/100\n",
      "36/36 [==============================] - ETA: 0s - loss: 0.2002 - binary_accuracy: 0.9307 - precision: 0.9276 - recall: 0.9346 - f1_score: 0.9289\n",
      "Epoch 44: val_loss did not improve from 0.20790\n",
      "36/36 [==============================] - 27s 757ms/step - loss: 0.2002 - binary_accuracy: 0.9307 - precision: 0.9276 - recall: 0.9346 - f1_score: 0.9289 - val_loss: 0.2088 - val_binary_accuracy: 0.9261 - val_precision: 0.9132 - val_recall: 0.9483 - val_f1_score: 0.9300\n",
      "Epoch 45/100\n",
      "36/36 [==============================] - ETA: 0s - loss: 0.2006 - binary_accuracy: 0.9281 - precision: 0.9274 - recall: 0.9290 - f1_score: 0.9250\n",
      "Epoch 45: val_loss did not improve from 0.20790\n",
      "36/36 [==============================] - 28s 759ms/step - loss: 0.2006 - binary_accuracy: 0.9281 - precision: 0.9274 - recall: 0.9290 - f1_score: 0.9250 - val_loss: 0.2089 - val_binary_accuracy: 0.9247 - val_precision: 0.9119 - val_recall: 0.9469 - val_f1_score: 0.9286\n",
      "Epoch 46/100\n",
      "36/36 [==============================] - ETA: 0s - loss: 0.1973 - binary_accuracy: 0.9331 - precision: 0.9307 - recall: 0.9359 - f1_score: 0.9274\n",
      "Epoch 46: val_loss did not improve from 0.20790\n",
      "36/36 [==============================] - 27s 751ms/step - loss: 0.1973 - binary_accuracy: 0.9331 - precision: 0.9307 - recall: 0.9359 - f1_score: 0.9274 - val_loss: 0.2090 - val_binary_accuracy: 0.9233 - val_precision: 0.9127 - val_recall: 0.9430 - val_f1_score: 0.9299\n",
      "Epoch 47/100\n",
      "36/36 [==============================] - ETA: 0s - loss: 0.2006 - binary_accuracy: 0.9308 - precision: 0.9276 - recall: 0.9348 - f1_score: 0.9263\n",
      "Epoch 47: val_loss did not improve from 0.20790\n",
      "36/36 [==============================] - 27s 752ms/step - loss: 0.2006 - binary_accuracy: 0.9308 - precision: 0.9276 - recall: 0.9348 - f1_score: 0.9263 - val_loss: 0.2090 - val_binary_accuracy: 0.9233 - val_precision: 0.9127 - val_recall: 0.9430 - val_f1_score: 0.9290\n"
     ]
    }
   ],
   "source": [
    "train()"
   ]
  }
 ],
 "metadata": {
  "kernelspec": {
   "display_name": "MedicalImageClassification",
   "language": "python",
   "name": "python3"
  },
  "language_info": {
   "codemirror_mode": {
    "name": "ipython",
    "version": 3
   },
   "file_extension": ".py",
   "mimetype": "text/x-python",
   "name": "python",
   "nbconvert_exporter": "python",
   "pygments_lexer": "ipython3",
   "version": "3.11.4"
  },
  "orig_nbformat": 4
 },
 "nbformat": 4,
 "nbformat_minor": 2
}
